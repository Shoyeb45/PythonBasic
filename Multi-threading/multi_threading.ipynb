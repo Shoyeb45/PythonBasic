{
 "cells": [
  {
   "cell_type": "code",
   "execution_count": 4,
   "metadata": {},
   "outputs": [],
   "source": [
    "import threading\n",
    "import numpy as np\n",
    "import time\n",
    "from queue import Queue"
   ]
  },
  {
   "cell_type": "code",
   "execution_count": 2,
   "metadata": {},
   "outputs": [],
   "source": [
    "def merge(left: list, right: list) -> list:\n",
    "    ans = []\n",
    "\n",
    "    i, j = 0, 0\n",
    "\n",
    "    while (i < len(left) and j < len(right)):\n",
    "        if (left[i] <= right[j]):\n",
    "            ans.append(left[i])\n",
    "            i += 1\n",
    "        else:\n",
    "            ans.append(right[j])\n",
    "            j += 1\n",
    "\n",
    "    while (i < len(left)):\n",
    "        ans.append(left[i])\n",
    "        i += 1\n",
    "\n",
    "    while (j < len(right)):\n",
    "        ans.append(right[j])\n",
    "        j += 1\n",
    "\n",
    "    return ans"
   ]
  },
  {
   "cell_type": "code",
   "execution_count": 13,
   "metadata": {},
   "outputs": [],
   "source": [
    "# Original merge-sort\n",
    "def merge_sort(nums: list) -> list:\n",
    "    if (len(nums) <= 1):\n",
    "        return nums\n",
    "    \n",
    "    mid = len(nums) // 2\n",
    "    left = nums[ :mid]\n",
    "    right = nums[mid:]\n",
    "\n",
    "    left = merge_sort(left)\n",
    "    right = merge_sort(right)\n",
    "\n",
    "    return merge(left, right)"
   ]
  },
  {
   "cell_type": "code",
   "execution_count": 26,
   "metadata": {},
   "outputs": [],
   "source": [
    "def multi_threaded_merge_sort(nums: list, numOfThreads: int):\n",
    "    if len(nums) == 1:\n",
    "        return nums\n",
    "    \n",
    "    size = len(nums) // numOfThreads\n",
    "\n",
    "    sublists = []\n",
    "    for i in range(0, len(nums), size):\n",
    "        sublist = nums[i:i + size]\n",
    "        sublists.append(sublist)\n",
    "    \n",
    "    sorted_sublists = Queue()\n",
    "\n",
    "    threads = []\n",
    "    for sublist in sublists:\n",
    "        thread = threading.Thread(target=lambda sublist: sorted_sublists.put(merge_sort(sublist)), args=(sublist,))\n",
    "        thread.start()\n",
    "        threads.append(thread)\n",
    "        \n",
    "    for thread in threads:\n",
    "        thread.join()\n",
    "\n",
    "    merged = sorted_sublists.get()\n",
    "\n",
    "    while (not sorted_sublists.empty()):\n",
    "        merged = merge(merged, sorted_sublists.get())\n",
    "\n",
    "    return merged\n"
   ]
  },
  {
   "cell_type": "code",
   "execution_count": 27,
   "metadata": {},
   "outputs": [],
   "source": [
    "low, high, n = 1, 1000000000, 1000000\n",
    "nums = np.random.randint(low, high, n)"
   ]
  },
  {
   "cell_type": "code",
   "execution_count": 28,
   "metadata": {},
   "outputs": [
    {
     "name": "stdout",
     "output_type": "stream",
     "text": [
      "Total time taken : 7.140174150466919\n"
     ]
    }
   ],
   "source": [
    "# simple merge sort\n",
    "start_time = time.time()\n",
    "nums = merge_sort(nums)\n",
    "# print(nums)\n",
    "end_time = time.time()\n",
    "\n",
    "print(\"Total time taken :\", end_time - start_time)"
   ]
  },
  {
   "cell_type": "code",
   "execution_count": 30,
   "metadata": {},
   "outputs": [
    {
     "name": "stdout",
     "output_type": "stream",
     "text": [
      "Total time taken : 7.305999755859375\n"
     ]
    }
   ],
   "source": [
    "# multi-threaded merge sort\n",
    "start_time = time.time()\n",
    "num_of_threads = 4\n",
    "nums = multi_threaded_merge_sort(nums, num_of_threads)\n",
    "# print(nums)\n",
    "end_time = time.time()\n",
    "\n",
    "print(\"Total time taken :\", end_time - start_time)"
   ]
  },
  {
   "cell_type": "code",
   "execution_count": null,
   "metadata": {},
   "outputs": [],
   "source": []
  }
 ],
 "metadata": {
  "kernelspec": {
   "display_name": "Python 3",
   "language": "python",
   "name": "python3"
  },
  "language_info": {
   "codemirror_mode": {
    "name": "ipython",
    "version": 3
   },
   "file_extension": ".py",
   "mimetype": "text/x-python",
   "name": "python",
   "nbconvert_exporter": "python",
   "pygments_lexer": "ipython3",
   "version": "3.12.6"
  }
 },
 "nbformat": 4,
 "nbformat_minor": 2
}
